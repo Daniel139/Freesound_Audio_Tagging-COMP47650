{
  "nbformat": 4,
  "nbformat_minor": 0,
  "metadata": {
    "colab": {
      "name": "Few Bits.ipynb",
      "provenance": []
    },
    "kernelspec": {
      "display_name": "Python 3",
      "language": "python",
      "name": "python3"
    },
    "language_info": {
      "codemirror_mode": {
        "name": "ipython",
        "version": 3
      },
      "file_extension": ".py",
      "mimetype": "text/x-python",
      "name": "python",
      "nbconvert_exporter": "python",
      "pygments_lexer": "ipython3",
      "version": "3.7.4"
    }
  },
  "cells": [
    {
      "cell_type": "code",
      "metadata": {
        "id": "C63fSV_5bp76",
        "colab_type": "code",
        "colab": {}
      },
      "source": [
        "# !wget -O kaggle.json https://drive.google.com/open?id=1iagVJWzbhEHwouqHtDFulFSMIcPMh5fd\n",
        "# !pip install -q kaggle\n",
        "# !mkdir ~/.kaggle\n",
        "# !cp kaggle.json ~/.kaggle/kaggle.json\n",
        "# !chmod 600 ~/.kaggle/kaggle.json\n",
        "# !mkdir freesound-audio-tagging\n",
        "\n",
        "%cd freesound-audio-tagging\n",
        "!kaggle datasets download -d freesound-audio-tagging\n",
        "%cd ../"
      ],
      "execution_count": 0,
      "outputs": []
    },
    {
      "cell_type": "code",
      "metadata": {
        "id": "MV7TvWxTmgJZ",
        "colab_type": "code",
        "colab": {}
      },
      "source": [
        "import os\n",
        "os.environ['KAGGLE_USERNAME'] = \"danielh13\"\n",
        "os.environ['KAGGLE_KEY'] = \"ed81fccd5223c7711b3e18665c96c302\""
      ],
      "execution_count": 0,
      "outputs": []
    },
    {
      "cell_type": "code",
      "metadata": {
        "id": "UJiLt-XzmAsv",
        "colab_type": "code",
        "colab": {}
      },
      "source": [
        "%cd freesound-audio-tagging\n",
        "!kaggle competitions download -c freesound-audio-tagging\n",
        "%cd ../"
      ],
      "execution_count": 0,
      "outputs": []
    },
    {
      "cell_type": "code",
      "metadata": {
        "id": "RjVoJ-CHfqjR",
        "colab_type": "code",
        "colab": {}
      },
      "source": [
        "# !rmdir freesound-audio-tagging/\n",
        "# !rm ~/.kaggle/kaggle.json\n",
        "# !rmdir ~/.kaggle\n",
        "\n",
        "!cd ~\n",
        "!ls"
      ],
      "execution_count": 0,
      "outputs": []
    },
    {
      "cell_type": "code",
      "metadata": {
        "colab_type": "code",
        "id": "gBh8onqdGvUw",
        "colab": {}
      },
      "source": [
        "import pandas as pd\n",
        "import numpy as np\n",
        "import re"
      ],
      "execution_count": 0,
      "outputs": []
    },
    {
      "cell_type": "code",
      "metadata": {
        "colab_type": "code",
        "id": "1WkOxzO1GvU1",
        "colab": {}
      },
      "source": [
        "from sklearn import  preprocessing\n",
        "from sklearn.linear_model import SGDClassifier\n",
        "from sklearn.svm import SVC\n",
        "from sklearn.model_selection import train_test_split\n",
        "from sklearn.metrics import classification_report\n",
        "from sklearn.discriminant_analysis import LinearDiscriminantAnalysis\n",
        "from sklearn.model_selection import GridSearchCV\n",
        "from sklearn.metrics import accuracy_score\n"
      ],
      "execution_count": 0,
      "outputs": []
    },
    {
      "cell_type": "code",
      "metadata": {
        "colab_type": "code",
        "id": "JznUb-LbGvU4",
        "colab": {}
      },
      "source": [
        "import tensorflow as tf\n",
        "from tensorflow.keras.layers import Dense, Embedding, LSTM, GRU,Bidirectional\n",
        "from tensorflow.keras.layers import Conv1D, Conv2D, GlobalMaxPooling1D\n",
        "from tensorflow.keras.layers import Activation,Flatten,Dropout\n",
        "\n",
        "from tensorflow.keras.models import Sequential,model_from_json\n",
        "from tensorflow.keras.layers import Dense, Embedding, LSTM, GRU,Bidirectional,Dropout,Conv2D,Flatten,Conv1D,GlobalAveragePooling1D\n",
        "from tensorflow.keras.wrappers.scikit_learn import KerasClassifier"
      ],
      "execution_count": 0,
      "outputs": []
    },
    {
      "cell_type": "code",
      "metadata": {
        "colab_type": "code",
        "id": "FuxyuasEGvU7",
        "colab": {}
      },
      "source": [
        "from google.colab import drive\n",
        "\n",
        "drive.mount(\"/content/gdrive\", force_remount=True)"
      ],
      "execution_count": 0,
      "outputs": []
    },
    {
      "cell_type": "code",
      "metadata": {
        "colab_type": "code",
        "id": "Qs9swpVPGvU9",
        "colab": {}
      },
      "source": [
        "drive_directory = \"gdrive/My Drive/freesound-audio-tagging/\"\n",
        "df_train_og = pd.read_csv(drive_directory+'train.csv')"
      ],
      "execution_count": 0,
      "outputs": []
    },
    {
      "cell_type": "markdown",
      "metadata": {
        "colab_type": "text",
        "id": "J-ERBRL3GvVA"
      },
      "source": [
        "## Get files from original"
      ]
    },
    {
      "cell_type": "code",
      "metadata": {
        "colab_type": "code",
        "id": "mpyMIrJCGvVB",
        "colab": {}
      },
      "source": [
        "file_to_tag = pd.Series(df_train_og['label'].values,index=df_train_og['fname']).to_dict()"
      ],
      "execution_count": 0,
      "outputs": []
    },
    {
      "cell_type": "code",
      "metadata": {
        "colab_type": "code",
        "id": "yzLe6WNNGvVE",
        "colab": {}
      },
      "source": [
        "def getTag(x):\n",
        "    return (file_to_tag[x])"
      ],
      "execution_count": 0,
      "outputs": []
    },
    {
      "cell_type": "code",
      "metadata": {
        "colab_type": "code",
        "id": "NGvqriaqGvVI",
        "colab": {}
      },
      "source": [
        ""
      ],
      "execution_count": 0,
      "outputs": []
    },
    {
      "cell_type": "markdown",
      "metadata": {
        "colab_type": "text",
        "id": "tkCGBhAYGvVK"
      },
      "source": [
        "## Import Dataset"
      ]
    },
    {
      "cell_type": "code",
      "metadata": {
        "colab_type": "code",
        "id": "EW14mcuJGvVL",
        "colab": {}
      },
      "source": [
        "import pickle\n",
        "\n",
        "pickle_in = open(drive_directory+\"train_tab_feats.pkl\",\"rb\")\n",
        "df_train = pickle.load(pickle_in)\n",
        "\n",
        "pickle_in = open(drive_directory+\"test_tab_feats.pkl\",\"rb\")\n",
        "df_test = pickle.load(pickle_in)"
      ],
      "execution_count": 0,
      "outputs": []
    },
    {
      "cell_type": "code",
      "metadata": {
        "colab_type": "code",
        "id": "jaOx3oQPGvVN",
        "colab": {}
      },
      "source": [
        "total = pd.concat([df_train,df_test],ignore_index=True)"
      ],
      "execution_count": 0,
      "outputs": []
    },
    {
      "cell_type": "markdown",
      "metadata": {
        "colab_type": "text",
        "id": "WCs1dCrVGvVP"
      },
      "source": [
        "#### Need usable test file"
      ]
    },
    {
      "cell_type": "code",
      "metadata": {
        "colab_type": "code",
        "id": "o4ZpcwJ0GvVQ",
        "colab": {}
      },
      "source": [
        "#total['tag'] = total['fname'].apply(getTag)"
      ],
      "execution_count": 0,
      "outputs": []
    },
    {
      "cell_type": "code",
      "metadata": {
        "colab_type": "code",
        "id": "UFDdOarsGvVT",
        "colab": {}
      },
      "source": [
        ""
      ],
      "execution_count": 0,
      "outputs": []
    },
    {
      "cell_type": "code",
      "metadata": {
        "colab_type": "code",
        "id": "c6gT9iXMGvVV",
        "colab": {}
      },
      "source": [
        "df_train['tag'] = df_train['fname'].apply(getTag)"
      ],
      "execution_count": 0,
      "outputs": []
    },
    {
      "cell_type": "code",
      "metadata": {
        "colab_type": "code",
        "id": "uXj3gMc0GvVX",
        "colab": {}
      },
      "source": [
        "df_train_copy = df_train.drop(['fname','tag'], axis = 1)"
      ],
      "execution_count": 0,
      "outputs": []
    },
    {
      "cell_type": "code",
      "metadata": {
        "colab_type": "code",
        "id": "B2CItWtoGvVZ",
        "colab": {}
      },
      "source": [
        ""
      ],
      "execution_count": 0,
      "outputs": []
    },
    {
      "cell_type": "markdown",
      "metadata": {
        "colab_type": "text",
        "id": "y_7daxEDGvVb"
      },
      "source": [
        "## Reduce Dimensions and Make Train Val Sets"
      ]
    },
    {
      "cell_type": "code",
      "metadata": {
        "colab_type": "code",
        "id": "mM6FHyUjGvVc",
        "colab": {}
      },
      "source": [
        "LDA = LinearDiscriminantAnalysis()\n",
        "X = LDA.fit_transform(df_train_copy, df_train['tag'])\n",
        "\n",
        "x_train, x_val, y_train, y_val = train_test_split(X,  df_train['tag'], shuffle = True, test_size = 0.2, random_state = 42)\n",
        "\n",
        "encoder = preprocessing.LabelEncoder()\n",
        "y_train = encoder.fit_transform(y_train)\n",
        "y_val = encoder.fit_transform(y_val)"
      ],
      "execution_count": 0,
      "outputs": []
    },
    {
      "cell_type": "code",
      "metadata": {
        "colab_type": "code",
        "id": "SYWYUvD_GvVg",
        "colab": {}
      },
      "source": [
        ""
      ],
      "execution_count": 0,
      "outputs": []
    },
    {
      "cell_type": "markdown",
      "metadata": {
        "colab_type": "text",
        "id": "xbdbJ-82GvVj"
      },
      "source": [
        "## SGD Linear Model"
      ]
    },
    {
      "cell_type": "code",
      "metadata": {
        "colab_type": "code",
        "id": "dhSu2VrNGvVj",
        "colab": {}
      },
      "source": [
        "SGD = SGDClassifier()\n",
        "SGD.fit(x_train,y_train)\n",
        "y_pred = SGD.predict(x_val)\n"
      ],
      "execution_count": 0,
      "outputs": []
    },
    {
      "cell_type": "code",
      "metadata": {
        "colab_type": "code",
        "id": "qgsNPuLHGvVl",
        "colab": {}
      },
      "source": [
        "new_index = list(encoder.classes_)\n",
        "new_index.append('accuracy')\n",
        "new_index.append('macro avg')\n",
        "new_index.append('weighted avg')"
      ],
      "execution_count": 0,
      "outputs": []
    },
    {
      "cell_type": "code",
      "metadata": {
        "colab_type": "code",
        "id": "NAPJ0gneGvVn",
        "colab": {}
      },
      "source": [
        ""
      ],
      "execution_count": 0,
      "outputs": []
    },
    {
      "cell_type": "code",
      "metadata": {
        "colab_type": "code",
        "id": "1wQJXeB_GvVp",
        "colab": {}
      },
      "source": [
        "report = classification_report(y_val, y_pred, output_dict=True)\n",
        "df_sgd_first = pd.DataFrame(report).transpose()\n",
        "df_sgd_first.index = new_index"
      ],
      "execution_count": 0,
      "outputs": []
    },
    {
      "cell_type": "code",
      "metadata": {
        "colab_type": "code",
        "id": "ziUYhS1dGvVr",
        "colab": {}
      },
      "source": [
        "df_sgd_first"
      ],
      "execution_count": 0,
      "outputs": []
    },
    {
      "cell_type": "code",
      "metadata": {
        "colab_type": "code",
        "id": "RqlhlKvoGvVt",
        "colab": {}
      },
      "source": [
        ""
      ],
      "execution_count": 0,
      "outputs": []
    },
    {
      "cell_type": "markdown",
      "metadata": {
        "colab_type": "text",
        "id": "OUbETzKZGvVv"
      },
      "source": [
        "## SVM"
      ]
    },
    {
      "cell_type": "code",
      "metadata": {
        "colab_type": "code",
        "id": "oDDb7gQJGvVw",
        "colab": {}
      },
      "source": [
        "svm = SVC()\n",
        "svm.fit(x_train,y_train)\n",
        "y_pred = svm.predict(x_val)"
      ],
      "execution_count": 0,
      "outputs": []
    },
    {
      "cell_type": "code",
      "metadata": {
        "colab_type": "code",
        "id": "B_OcC8bLGvVz",
        "colab": {}
      },
      "source": [
        "new_index = list(encoder.classes_)\n",
        "new_index.append('accuracy')\n",
        "new_index.append('macro avg')\n",
        "new_index.append('weighted avg')"
      ],
      "execution_count": 0,
      "outputs": []
    },
    {
      "cell_type": "code",
      "metadata": {
        "colab_type": "code",
        "id": "2cCmhFfWGvV1",
        "colab": {}
      },
      "source": [
        "report = classification_report(y_val, y_pred, output_dict=True)\n",
        "df_svm_first = pd.DataFrame(report).transpose()\n",
        "df_svm_first.index = new_index"
      ],
      "execution_count": 0,
      "outputs": []
    },
    {
      "cell_type": "code",
      "metadata": {
        "colab_type": "code",
        "id": "QMHL61zhGvV3",
        "colab": {}
      },
      "source": [
        "df_svm_first"
      ],
      "execution_count": 0,
      "outputs": []
    },
    {
      "cell_type": "markdown",
      "metadata": {
        "colab_type": "text",
        "id": "uNVJ_u4UGvV5"
      },
      "source": [
        "## Grid Search On SVM"
      ]
    },
    {
      "cell_type": "code",
      "metadata": {
        "colab_type": "code",
        "id": "zGf5Z2brGvV6",
        "colab": {}
      },
      "source": [
        "def SVC_GridSearch(X, Y, X_test, Y_test):\n",
        "    svc = SVC()\n",
        "    parameters = {\n",
        "        'C': (0.5,1,2),\n",
        "        'kernel': ('rbf','linear','poly', 'sigmoid'),\n",
        "        'shrinking': (True, False),\n",
        "        'decision_function_shape': ('ovp','ovr'),\n",
        "        \n",
        "\n",
        "    }\n",
        "    grid_search = GridSearchCV(svc, parameters, n_jobs=-1, verbose=0)\n",
        "    grid_search.fit(X, Y)\n",
        "    accuracy = grid_search.best_score_\n",
        "    best_parameters = grid_search.best_estimator_.get_params()\n",
        "    classifier = grid_search.best_estimator_\n",
        "    y_pred = classifier.predict(X_test)\n",
        "    test_accuracy = accuracy_score(y_pred, Y_test)\n",
        "    return best_parameters, accuracy, test_accuracy"
      ],
      "execution_count": 0,
      "outputs": []
    },
    {
      "cell_type": "code",
      "metadata": {
        "colab_type": "code",
        "id": "svaGQrUeGvV7",
        "colab": {}
      },
      "source": [
        "best_parameters, accuracy, test_accuracy = SVC_GridSearch(x_train, y_train, x_val, y_val)"
      ],
      "execution_count": 0,
      "outputs": []
    },
    {
      "cell_type": "code",
      "metadata": {
        "colab_type": "code",
        "id": "e8A7Mx3RGvWA",
        "colab": {}
      },
      "source": [
        "bestSVM = SVC()\n",
        "bestSVM.set_params(**best_parameters)\n"
      ],
      "execution_count": 0,
      "outputs": []
    },
    {
      "cell_type": "code",
      "metadata": {
        "colab_type": "code",
        "id": "REWJF2s_GvWC",
        "colab": {}
      },
      "source": [
        "bestSVM.fit(x_train,y_train)\n",
        "y_pred = bestSVM.predict(x_val)"
      ],
      "execution_count": 0,
      "outputs": []
    },
    {
      "cell_type": "code",
      "metadata": {
        "colab_type": "code",
        "id": "g2T6KI3nGvWE",
        "colab": {}
      },
      "source": [
        "new_index = list(encoder.classes_)\n",
        "new_index.append('accuracy')\n",
        "new_index.append('macro avg')\n",
        "new_index.append('weighted avg')"
      ],
      "execution_count": 0,
      "outputs": []
    },
    {
      "cell_type": "code",
      "metadata": {
        "colab_type": "code",
        "id": "B0gUUyd3GvWG",
        "colab": {}
      },
      "source": [
        "report = classification_report(y_val, y_pred, output_dict=True)\n",
        "df_svm = pd.DataFrame(report).transpose()\n",
        "df_svm.index = new_index"
      ],
      "execution_count": 0,
      "outputs": []
    },
    {
      "cell_type": "code",
      "metadata": {
        "colab_type": "code",
        "id": "YQjs6340GvWI",
        "colab": {}
      },
      "source": [
        "df_svm"
      ],
      "execution_count": 0,
      "outputs": []
    },
    {
      "cell_type": "markdown",
      "metadata": {
        "colab_type": "text",
        "id": "REtoev17GvWK"
      },
      "source": [
        "## Vanilla Neural Network"
      ]
    },
    {
      "cell_type": "code",
      "metadata": {
        "colab_type": "code",
        "id": "FckIqSaEGvWK",
        "colab": {}
      },
      "source": [
        "# Set the input and output sizes\n",
        "input_size = 40 #NUMBER INPUTS HERE#\n",
        "output_size = 41 #NUMBER OUTPUTS HERE#\n",
        "\n",
        "\n",
        "#DEFINE HIDDEN LAYER SIZE\n",
        "#CAN HAVE MULTIPLE DIFFERENT SIZED LAYERS IF NEEDED\n",
        "#50 NICE START POINT FOR BEING TIME EFFICIENT BUT STILL RELATIVELY COMPLEX\n",
        "hidden_layer_size = 100\n",
        "  \n",
        "\n",
        "#MODEL SPECIFICATIONS\n",
        "model = tf.keras.Sequential([\n",
        "    # tf.keras.layers.Dense is basically implementing: output = activation(dot(input, weight) + bias)\n",
        "    # it takes several arguments, but the most important ones for us are the hidden_layer_size and the activation function\n",
        "    tf.keras.layers.Dense(hidden_layer_size, activation='relu'), # 1st hidden layer\n",
        "    tf.keras.layers.Dropout(0.2),\n",
        "    tf.keras.layers.Dense(hidden_layer_size, activation='relu'), # 2nd hidden layer\n",
        "    tf.keras.layers.Dropout(0.2),\n",
        "    tf.keras.layers.Dense(hidden_layer_size, activation='relu'), # 3rd hidden layer\n",
        "    tf.keras.layers.Dropout(0.2),\n",
        "\n",
        "\n",
        "    # POTENTIALLY MULTIPLE MORE LAYERS HERE #\n",
        "    # NO SINGLE ACTIVATION NECESSARILY BEST (AT THIS STAGE I DO NOT FULLY UNDERSTAND DIFFERENCES, TRY DIFFERENT VARIATIONs)\n",
        "    \n",
        "    # FINAL LAYER MUST TAKE OUTPUT SIZE\n",
        "    #FOR CLASSIFICATION PROBLEMS USE SOFTMAX AS ACTIVATION\n",
        "    tf.keras.layers.Dense(output_size, activation='softmax') # output layer\n",
        "])\n",
        "\n",
        "\n",
        "#COMPILE MODEL GIVING IT OPTIMIZER LOSS FUNCTION AND METRIC OF INTEREST\n",
        "# MOST TIMES USE ADAM FOR OPTIMIZER (LOOK AT OTHERS THOUGH) \n",
        "# lOSS FUNCTION - MANY DIFFERENT VARIATIONS sparse_categorical_crossentropy IS BASICALLY MIN SUM OF SQUARES\n",
        "# TO NOW I AM ONLY INTERESTED IN ACCURACY AT EACH LEVEL (HAVE NOT LOOKED AT OTHER OPTIONS`)\n",
        "model.compile(optimizer='adam', loss='sparse_categorical_crossentropy', metrics=['accuracy'])\n",
        "\n",
        "\n",
        "###                            ### \n",
        "###                            ###\n",
        "###          TRAINING          ###\n",
        "###                            ###\n",
        "###                            ###\n",
        "\n",
        "# SET SIZE OF BATCHES (FOR SHUFFLING IN PARTS WHEN OVERALL SIZE TO BIG)\n",
        "batch_size = 128\n",
        "\n",
        "# SET MAXIMUM NUMBER OF EPOCHS (JUST SO DOESNT RUN ENDLESSLY)\n",
        "max_epochs = 100\n",
        "\n",
        "# SET EARLY STOPPING FUNCTION\n",
        "# PATIENCE EQUAL 0 (DEFAULT) => STOPS AS SOON AS FOLLOWING EPOCH HAS REDUCED LOSS\n",
        "# PATIENCE EQUAL N => STOPS AFTER N SUBSEQUENT INCREASING LOSSES\n",
        "early_stopping = tf.keras.callbacks.EarlyStopping(patience=2)\n",
        "\n",
        "\n",
        "\n",
        "###                            ### \n",
        "###                            ###\n",
        "###         FIT MODEL          ###\n",
        "###                            ###\n",
        "###                            ###\n",
        "\n",
        "model.fit(x_train, # train inputs\n",
        "          y_train, # train targets\n",
        "          batch_size=batch_size, # batch size\n",
        "          epochs=max_epochs, # epochs that we will train for (assuming early stopping doesn't kick in)\n",
        "          callbacks=[early_stopping], # early stopping\n",
        "          validation_data=(x_val, y_val), # validation data\n",
        "          verbose = 1 # shows some information for each epoch so we can analyse\n",
        "          )  "
      ],
      "execution_count": 0,
      "outputs": []
    },
    {
      "cell_type": "code",
      "metadata": {
        "colab_type": "code",
        "id": "5aXO6HSOGvWM",
        "colab": {}
      },
      "source": [
        ""
      ],
      "execution_count": 0,
      "outputs": []
    },
    {
      "cell_type": "code",
      "metadata": {
        "colab_type": "code",
        "id": "Mzkg2ZCWGvWP",
        "colab": {}
      },
      "source": [
        "y_pred = model.predict(x_val)\n",
        "y_pred = np.argmax(y_pred, axis=1)\n",
        "vanilla_nn = classification_report(y_val, y_pred)\n",
        "print(vanilla_nn)"
      ],
      "execution_count": 0,
      "outputs": []
    },
    {
      "cell_type": "code",
      "metadata": {
        "colab_type": "code",
        "id": "4DGL1NjAGvWQ",
        "colab": {}
      },
      "source": [
        ""
      ],
      "execution_count": 0,
      "outputs": []
    },
    {
      "cell_type": "code",
      "metadata": {
        "colab_type": "code",
        "id": "Gy9gywYMGvWT",
        "colab": {}
      },
      "source": [
        ""
      ],
      "execution_count": 0,
      "outputs": []
    }
  ]
}
